{
 "cells": [
  {
   "cell_type": "code",
   "execution_count": 9,
   "metadata": {
    "collapsed": true
   },
   "outputs": [],
   "source": [
    "import pandas as pd\n",
    "from surprise import Dataset, Reader, SVD\n",
    "from sklearn.feature_extraction.text import TfidfVectorizer\n",
    "from sklearn.metrics.pairwise import linear_kernel"
   ]
  },
  {
   "cell_type": "code",
   "execution_count": 15,
   "outputs": [
    {
     "name": "stdout",
     "output_type": "stream",
     "text": [
      "Collecting scikit-surprise\n",
      "  Using cached scikit-surprise-1.1.3.tar.gz (771 kB)\n",
      "  Preparing metadata (setup.py): started\n",
      "  Preparing metadata (setup.py): finished with status 'done'\n",
      "Requirement already satisfied: joblib>=1.0.0 in c:\\users\\admin\\desktop\\datascienceprojects\\004-hybridrecommendationsystem\\venv\\lib\\site-packages (from scikit-surprise) (1.3.1)\n",
      "Requirement already satisfied: numpy>=1.17.3 in c:\\users\\admin\\desktop\\datascienceprojects\\004-hybridrecommendationsystem\\venv\\lib\\site-packages (from scikit-surprise) (1.25.1)\n",
      "Requirement already satisfied: scipy>=1.3.2 in c:\\users\\admin\\desktop\\datascienceprojects\\004-hybridrecommendationsystem\\venv\\lib\\site-packages (from scikit-surprise) (1.11.1)\n",
      "Building wheels for collected packages: scikit-surprise\n",
      "  Building wheel for scikit-surprise (setup.py): started\n",
      "  Building wheel for scikit-surprise (setup.py): finished with status 'error'\n",
      "  Running setup.py clean for scikit-surprise\n",
      "Failed to build scikit-surprise\n",
      "Installing collected packages: scikit-surprise\n",
      "    Running setup.py install for scikit-surprise: started\n",
      "    Running setup.py install for scikit-surprise: finished with status 'error'\n"
     ]
    },
    {
     "name": "stderr",
     "output_type": "stream",
     "text": [
      "  ERROR: Command errored out with exit status 1:\n",
      "   command: 'C:\\Users\\admin\\Desktop\\DataScienceProjects\\004-HybridRecommendationSystem\\venv\\Scripts\\python.exe' -u -c 'import io, os, sys, setuptools, tokenize; sys.argv[0] = '\"'\"'C:\\\\Users\\\\admin\\\\AppData\\\\Local\\\\Temp\\\\pip-install-7qt7t50y\\\\scikit-surprise_def6e5ced9e84b069e3c8c2b93c30914\\\\setup.py'\"'\"'; __file__='\"'\"'C:\\\\Users\\\\admin\\\\AppData\\\\Local\\\\Temp\\\\pip-install-7qt7t50y\\\\scikit-surprise_def6e5ced9e84b069e3c8c2b93c30914\\\\setup.py'\"'\"';f = getattr(tokenize, '\"'\"'open'\"'\"', open)(__file__) if os.path.exists(__file__) else io.StringIO('\"'\"'from setuptools import setup; setup()'\"'\"');code = f.read().replace('\"'\"'\\r\\n'\"'\"', '\"'\"'\\n'\"'\"');f.close();exec(compile(code, __file__, '\"'\"'exec'\"'\"'))' bdist_wheel -d 'C:\\Users\\admin\\AppData\\Local\\Temp\\pip-wheel-dd_100wd'\n",
      "       cwd: C:\\Users\\admin\\AppData\\Local\\Temp\\pip-install-7qt7t50y\\scikit-surprise_def6e5ced9e84b069e3c8c2b93c30914\\\n",
      "  Complete output (92 lines):\n",
      "  running bdist_wheel\n",
      "  running build\n",
      "  running build_py\n",
      "  creating build\n",
      "  creating build\\lib.win-amd64-3.11\n",
      "  creating build\\lib.win-amd64-3.11\\surprise\n",
      "  copying surprise\\accuracy.py -> build\\lib.win-amd64-3.11\\surprise\n",
      "  copying surprise\\builtin_datasets.py -> build\\lib.win-amd64-3.11\\surprise\n",
      "  copying surprise\\dataset.py -> build\\lib.win-amd64-3.11\\surprise\n",
      "  copying surprise\\dump.py -> build\\lib.win-amd64-3.11\\surprise\n",
      "  copying surprise\\reader.py -> build\\lib.win-amd64-3.11\\surprise\n",
      "  copying surprise\\trainset.py -> build\\lib.win-amd64-3.11\\surprise\n",
      "  copying surprise\\utils.py -> build\\lib.win-amd64-3.11\\surprise\n",
      "  copying surprise\\__init__.py -> build\\lib.win-amd64-3.11\\surprise\n",
      "  copying surprise\\__main__.py -> build\\lib.win-amd64-3.11\\surprise\n",
      "  creating build\\lib.win-amd64-3.11\\surprise\\model_selection\n",
      "  copying surprise\\model_selection\\search.py -> build\\lib.win-amd64-3.11\\surprise\\model_selection\n",
      "  copying surprise\\model_selection\\split.py -> build\\lib.win-amd64-3.11\\surprise\\model_selection\n",
      "  copying surprise\\model_selection\\validation.py -> build\\lib.win-amd64-3.11\\surprise\\model_selection\n",
      "  copying surprise\\model_selection\\__init__.py -> build\\lib.win-amd64-3.11\\surprise\\model_selection\n",
      "  creating build\\lib.win-amd64-3.11\\surprise\\prediction_algorithms\n",
      "  copying surprise\\prediction_algorithms\\algo_base.py -> build\\lib.win-amd64-3.11\\surprise\\prediction_algorithms\n",
      "  copying surprise\\prediction_algorithms\\baseline_only.py -> build\\lib.win-amd64-3.11\\surprise\\prediction_algorithms\n",
      "  copying surprise\\prediction_algorithms\\knns.py -> build\\lib.win-amd64-3.11\\surprise\\prediction_algorithms\n",
      "  copying surprise\\prediction_algorithms\\predictions.py -> build\\lib.win-amd64-3.11\\surprise\\prediction_algorithms\n",
      "  copying surprise\\prediction_algorithms\\random_pred.py -> build\\lib.win-amd64-3.11\\surprise\\prediction_algorithms\n",
      "  copying surprise\\prediction_algorithms\\__init__.py -> build\\lib.win-amd64-3.11\\surprise\\prediction_algorithms\n",
      "  running egg_info\n",
      "  writing manifest file 'scikit_surprise.egg-info\\SOURCES.txt'\n",
      "  copying surprise\\similarities.c -> build\\lib.win-amd64-3.11\\surprise\n",
      "  copying surprise\\similarities.pyx -> build\\lib.win-amd64-3.11\\surprise\n",
      "  copying surprise\\prediction_algorithms\\co_clustering.c -> build\\lib.win-amd64-3.11\\surprise\\prediction_algorithms\n",
      "  copying surprise\\prediction_algorithms\\matrix_factorization.c -> build\\lib.win-amd64-3.11\\surprise\\prediction_algorithms\n",
      "  copying surprise\\prediction_algorithms\\optimize_baselines.c -> build\\lib.win-amd64-3.11\\surprise\\prediction_algorithms\n",
      "  copying surprise\\prediction_algorithms\\slope_one.c -> build\\lib.win-amd64-3.11\\surprise\\prediction_algorithms\n",
      "  copying surprise\\prediction_algorithms\\co_clustering.pyx -> build\\lib.win-amd64-3.11\\surprise\\prediction_algorithms\n",
      "  copying surprise\\prediction_algorithms\\matrix_factorization.pyx -> build\\lib.win-amd64-3.11\\surprise\\prediction_algorithms\n",
      "  copying surprise\\prediction_algorithms\\optimize_baselines.pyx -> build\\lib.win-amd64-3.11\\surprise\\prediction_algorithms\n",
      "  copying surprise\\prediction_algorithms\\slope_one.pyx -> build\\lib.win-amd64-3.11\\surprise\\prediction_algorithms\n",
      "  running build_ext\n",
      "  Traceback (most recent call last):\n",
      "    File \"<string>\", line 1, in <module>\n",
      "    File \"C:\\Users\\admin\\AppData\\Local\\Temp\\pip-install-7qt7t50y\\scikit-surprise_def6e5ced9e84b069e3c8c2b93c30914\\setup.py\", line 138, in <module>\n",
      "      setup(\n",
      "    File \"C:\\Users\\admin\\Desktop\\DataScienceProjects\\004-HybridRecommendationSystem\\venv\\Lib\\site-packages\\setuptools\\__init__.py\", line 155, in setup\n",
      "      return distutils.core.setup(**attrs)\n",
      "             ^^^^^^^^^^^^^^^^^^^^^^^^^^^^^\n",
      "    File \"C:\\Users\\admin\\Desktop\\DataScienceProjects\\004-HybridRecommendationSystem\\venv\\Lib\\site-packages\\setuptools\\_distutils\\core.py\", line 148, in setup\n",
      "      return run_commands(dist)\n",
      "             ^^^^^^^^^^^^^^^^^^\n",
      "    File \"C:\\Users\\admin\\Desktop\\DataScienceProjects\\004-HybridRecommendationSystem\\venv\\Lib\\site-packages\\setuptools\\_distutils\\core.py\", line 163, in run_commands\n",
      "      dist.run_commands()\n",
      "    File \"C:\\Users\\admin\\Desktop\\DataScienceProjects\\004-HybridRecommendationSystem\\venv\\Lib\\site-packages\\setuptools\\_distutils\\dist.py\", line 967, in run_commands\n",
      "      self.run_command(cmd)\n",
      "    File \"C:\\Users\\admin\\Desktop\\DataScienceProjects\\004-HybridRecommendationSystem\\venv\\Lib\\site-packages\\setuptools\\_distutils\\dist.py\", line 986, in run_command\n",
      "      cmd_obj.run()\n",
      "    File \"C:\\Users\\admin\\Desktop\\DataScienceProjects\\004-HybridRecommendationSystem\\venv\\Lib\\site-packages\\wheel\\bdist_wheel.py\", line 299, in run\n",
      "      self.run_command('build')\n",
      "    File \"C:\\Users\\admin\\Desktop\\DataScienceProjects\\004-HybridRecommendationSystem\\venv\\Lib\\site-packages\\setuptools\\_distutils\\cmd.py\", line 313, in run_command\n",
      "      self.distribution.run_command(command)\n",
      "    File \"C:\\Users\\admin\\Desktop\\DataScienceProjects\\004-HybridRecommendationSystem\\venv\\Lib\\site-packages\\setuptools\\_distutils\\dist.py\", line 986, in run_command\n",
      "      cmd_obj.run()\n",
      "    File \"C:\\Users\\admin\\Desktop\\DataScienceProjects\\004-HybridRecommendationSystem\\venv\\Lib\\site-packages\\setuptools\\_distutils\\command\\build.py\", line 135, in run\n",
      "      self.run_command(cmd_name)\n",
      "    File \"C:\\Users\\admin\\Desktop\\DataScienceProjects\\004-HybridRecommendationSystem\\venv\\Lib\\site-packages\\setuptools\\_distutils\\cmd.py\", line 313, in run_command\n",
      "      self.distribution.run_command(command)\n",
      "    File \"C:\\Users\\admin\\Desktop\\DataScienceProjects\\004-HybridRecommendationSystem\\venv\\Lib\\site-packages\\setuptools\\_distutils\\dist.py\", line 986, in run_command\n",
      "      cmd_obj.run()\n",
      "    File \"C:\\Users\\admin\\Desktop\\DataScienceProjects\\004-HybridRecommendationSystem\\venv\\Lib\\site-packages\\setuptools\\command\\build_ext.py\", line 79, in run\n",
      "      _build_ext.run(self)\n",
      "    File \"C:\\Users\\admin\\Desktop\\DataScienceProjects\\004-HybridRecommendationSystem\\venv\\Lib\\site-packages\\setuptools\\_distutils\\command\\build_ext.py\", line 339, in run\n",
      "      self.build_extensions()\n",
      "    File \"C:\\Users\\admin\\Desktop\\DataScienceProjects\\004-HybridRecommendationSystem\\venv\\Lib\\site-packages\\setuptools\\_distutils\\command\\build_ext.py\", line 448, in build_extensions\n",
      "      self._build_extensions_serial()\n",
      "    File \"C:\\Users\\admin\\Desktop\\DataScienceProjects\\004-HybridRecommendationSystem\\venv\\Lib\\site-packages\\setuptools\\_distutils\\command\\build_ext.py\", line 473, in _build_extensions_serial\n",
      "      self.build_extension(ext)\n",
      "    File \"C:\\Users\\admin\\Desktop\\DataScienceProjects\\004-HybridRecommendationSystem\\venv\\Lib\\site-packages\\setuptools\\command\\build_ext.py\", line 202, in build_extension\n",
      "      _build_ext.build_extension(self, ext)\n",
      "    File \"C:\\Users\\admin\\Desktop\\DataScienceProjects\\004-HybridRecommendationSystem\\venv\\Lib\\site-packages\\setuptools\\_distutils\\command\\build_ext.py\", line 528, in build_extension\n",
      "      objects = self.compiler.compile(sources,\n",
      "                ^^^^^^^^^^^^^^^^^^^^^^^^^^^^^^\n",
      "    File \"C:\\Users\\admin\\Desktop\\DataScienceProjects\\004-HybridRecommendationSystem\\venv\\Lib\\site-packages\\setuptools\\_distutils\\_msvccompiler.py\", line 327, in compile\n",
      "      self.initialize()\n",
      "    File \"C:\\Users\\admin\\Desktop\\DataScienceProjects\\004-HybridRecommendationSystem\\venv\\Lib\\site-packages\\setuptools\\_distutils\\_msvccompiler.py\", line 224, in initialize\n",
      "      vc_env = _get_vc_env(plat_spec)\n",
      "               ^^^^^^^^^^^^^^^^^^^^^^\n",
      "    File \"C:\\Users\\admin\\Desktop\\DataScienceProjects\\004-HybridRecommendationSystem\\venv\\Lib\\site-packages\\setuptools\\msvc.py\", line 316, in msvc14_get_vc_env\n",
      "      return _msvc14_get_vc_env(plat_spec)\n",
      "             ^^^^^^^^^^^^^^^^^^^^^^^^^^^^^\n",
      "    File \"C:\\Users\\admin\\Desktop\\DataScienceProjects\\004-HybridRecommendationSystem\\venv\\Lib\\site-packages\\setuptools\\msvc.py\", line 270, in _msvc14_get_vc_env\n",
      "      raise distutils.errors.DistutilsPlatformError(\n",
      "  setuptools._distutils.errors.DistutilsPlatformError: Microsoft Visual C++ 14.0 or greater is required. Get it with \"Microsoft C++ Build Tools\": https://visualstudio.microsoft.com/visual-cpp-build-tools/\n",
      "  ----------------------------------------\n",
      "  ERROR: Failed building wheel for scikit-surprise\n",
      "    ERROR: Command errored out with exit status 1:\n",
      "     command: 'C:\\Users\\admin\\Desktop\\DataScienceProjects\\004-HybridRecommendationSystem\\venv\\Scripts\\python.exe' -u -c 'import io, os, sys, setuptools, tokenize; sys.argv[0] = '\"'\"'C:\\\\Users\\\\admin\\\\AppData\\\\Local\\\\Temp\\\\pip-install-7qt7t50y\\\\scikit-surprise_def6e5ced9e84b069e3c8c2b93c30914\\\\setup.py'\"'\"'; __file__='\"'\"'C:\\\\Users\\\\admin\\\\AppData\\\\Local\\\\Temp\\\\pip-install-7qt7t50y\\\\scikit-surprise_def6e5ced9e84b069e3c8c2b93c30914\\\\setup.py'\"'\"';f = getattr(tokenize, '\"'\"'open'\"'\"', open)(__file__) if os.path.exists(__file__) else io.StringIO('\"'\"'from setuptools import setup; setup()'\"'\"');code = f.read().replace('\"'\"'\\r\\n'\"'\"', '\"'\"'\\n'\"'\"');f.close();exec(compile(code, __file__, '\"'\"'exec'\"'\"'))' install --record 'C:\\Users\\admin\\AppData\\Local\\Temp\\pip-record-wa7sckdp\\install-record.txt' --single-version-externally-managed --compile --install-headers 'C:\\Users\\admin\\Desktop\\DataScienceProjects\\004-HybridRecommendationSystem\\venv\\include\\site\\python3.11\\scikit-surprise'\n",
      "         cwd: C:\\Users\\admin\\AppData\\Local\\Temp\\pip-install-7qt7t50y\\scikit-surprise_def6e5ced9e84b069e3c8c2b93c30914\\\n",
      "    Complete output (43 lines):\n",
      "    running install\n",
      "    C:\\Users\\admin\\Desktop\\DataScienceProjects\\004-HybridRecommendationSystem\\venv\\Lib\\site-packages\\setuptools\\command\\install.py:34: SetuptoolsDeprecationWarning: setup.py install is deprecated. Use build and pip and other standards-based tools.\n",
      "      warnings.warn(\n",
      "    running build\n",
      "    running build_py\n",
      "    creating build\n",
      "    creating build\\lib.win-amd64-3.11\n",
      "    creating build\\lib.win-amd64-3.11\\surprise\n",
      "    copying surprise\\accuracy.py -> build\\lib.win-amd64-3.11\\surprise\n",
      "    copying surprise\\builtin_datasets.py -> build\\lib.win-amd64-3.11\\surprise\n",
      "    copying surprise\\dataset.py -> build\\lib.win-amd64-3.11\\surprise\n",
      "    copying surprise\\dump.py -> build\\lib.win-amd64-3.11\\surprise\n",
      "    copying surprise\\reader.py -> build\\lib.win-amd64-3.11\\surprise\n",
      "    copying surprise\\trainset.py -> build\\lib.win-amd64-3.11\\surprise\n",
      "    copying surprise\\utils.py -> build\\lib.win-amd64-3.11\\surprise\n",
      "    copying surprise\\__init__.py -> build\\lib.win-amd64-3.11\\surprise\n",
      "    copying surprise\\__main__.py -> build\\lib.win-amd64-3.11\\surprise\n",
      "    creating build\\lib.win-amd64-3.11\\surprise\\model_selection\n",
      "    copying surprise\\model_selection\\search.py -> build\\lib.win-amd64-3.11\\surprise\\model_selection\n",
      "    copying surprise\\model_selection\\split.py -> build\\lib.win-amd64-3.11\\surprise\\model_selection\n",
      "    copying surprise\\model_selection\\validation.py -> build\\lib.win-amd64-3.11\\surprise\\model_selection\n",
      "    copying surprise\\model_selection\\__init__.py -> build\\lib.win-amd64-3.11\\surprise\\model_selection\n",
      "    creating build\\lib.win-amd64-3.11\\surprise\\prediction_algorithms\n",
      "    copying surprise\\prediction_algorithms\\algo_base.py -> build\\lib.win-amd64-3.11\\surprise\\prediction_algorithms\n",
      "    copying surprise\\prediction_algorithms\\baseline_only.py -> build\\lib.win-amd64-3.11\\surprise\\prediction_algorithms\n",
      "    copying surprise\\prediction_algorithms\\knns.py -> build\\lib.win-amd64-3.11\\surprise\\prediction_algorithms\n",
      "    copying surprise\\prediction_algorithms\\predictions.py -> build\\lib.win-amd64-3.11\\surprise\\prediction_algorithms\n",
      "    copying surprise\\prediction_algorithms\\random_pred.py -> build\\lib.win-amd64-3.11\\surprise\\prediction_algorithms\n",
      "    copying surprise\\prediction_algorithms\\__init__.py -> build\\lib.win-amd64-3.11\\surprise\\prediction_algorithms\n",
      "    running egg_info\n",
      "    writing manifest file 'scikit_surprise.egg-info\\SOURCES.txt'\n",
      "    copying surprise\\similarities.c -> build\\lib.win-amd64-3.11\\surprise\n",
      "    copying surprise\\similarities.pyx -> build\\lib.win-amd64-3.11\\surprise\n",
      "    copying surprise\\prediction_algorithms\\co_clustering.c -> build\\lib.win-amd64-3.11\\surprise\\prediction_algorithms\n",
      "    copying surprise\\prediction_algorithms\\matrix_factorization.c -> build\\lib.win-amd64-3.11\\surprise\\prediction_algorithms\n",
      "    copying surprise\\prediction_algorithms\\optimize_baselines.c -> build\\lib.win-amd64-3.11\\surprise\\prediction_algorithms\n",
      "    copying surprise\\prediction_algorithms\\slope_one.c -> build\\lib.win-amd64-3.11\\surprise\\prediction_algorithms\n",
      "    copying surprise\\prediction_algorithms\\co_clustering.pyx -> build\\lib.win-amd64-3.11\\surprise\\prediction_algorithms\n",
      "    copying surprise\\prediction_algorithms\\matrix_factorization.pyx -> build\\lib.win-amd64-3.11\\surprise\\prediction_algorithms\n",
      "    copying surprise\\prediction_algorithms\\optimize_baselines.pyx -> build\\lib.win-amd64-3.11\\surprise\\prediction_algorithms\n",
      "    copying surprise\\prediction_algorithms\\slope_one.pyx -> build\\lib.win-amd64-3.11\\surprise\\prediction_algorithms\n",
      "    running build_ext\n",
      "    error: Microsoft Visual C++ 14.0 or greater is required. Get it with \"Microsoft C++ Build Tools\": https://visualstudio.microsoft.com/visual-cpp-build-tools/\n",
      "    ----------------------------------------\n",
      "ERROR: Command errored out with exit status 1: 'C:\\Users\\admin\\Desktop\\DataScienceProjects\\004-HybridRecommendationSystem\\venv\\Scripts\\python.exe' -u -c 'import io, os, sys, setuptools, tokenize; sys.argv[0] = '\"'\"'C:\\\\Users\\\\admin\\\\AppData\\\\Local\\\\Temp\\\\pip-install-7qt7t50y\\\\scikit-surprise_def6e5ced9e84b069e3c8c2b93c30914\\\\setup.py'\"'\"'; __file__='\"'\"'C:\\\\Users\\\\admin\\\\AppData\\\\Local\\\\Temp\\\\pip-install-7qt7t50y\\\\scikit-surprise_def6e5ced9e84b069e3c8c2b93c30914\\\\setup.py'\"'\"';f = getattr(tokenize, '\"'\"'open'\"'\"', open)(__file__) if os.path.exists(__file__) else io.StringIO('\"'\"'from setuptools import setup; setup()'\"'\"');code = f.read().replace('\"'\"'\\r\\n'\"'\"', '\"'\"'\\n'\"'\"');f.close();exec(compile(code, __file__, '\"'\"'exec'\"'\"'))' install --record 'C:\\Users\\admin\\AppData\\Local\\Temp\\pip-record-wa7sckdp\\install-record.txt' --single-version-externally-managed --compile --install-headers 'C:\\Users\\admin\\Desktop\\DataScienceProjects\\004-HybridRecommendationSystem\\venv\\include\\site\\python3.11\\scikit-surprise' Check the logs for full command output.\n",
      "WARNING: You are using pip version 21.3.1; however, version 23.1.2 is available.\n",
      "You should consider upgrading via the 'C:\\Users\\admin\\Desktop\\DataScienceProjects\\004-HybridRecommendationSystem\\venv\\Scripts\\python.exe -m pip install --upgrade pip' command.\n"
     ]
    }
   ],
   "source": [
    "!pip install scikit-surprise"
   ],
   "metadata": {
    "collapsed": false
   }
  },
  {
   "cell_type": "code",
   "execution_count": 3,
   "outputs": [
    {
     "data": {
      "text/plain": "   User ID  Product ID Product Name   Brand         Category  Price    Rating  \\\n0       19           1        Dress  Adidas    Men's Fashion     40  1.043159   \n1       97           2        Shoes     H&M  Women's Fashion     82  4.026416   \n2       25           3        Dress  Adidas  Women's Fashion     44  3.337938   \n3       57           4        Shoes    Zara    Men's Fashion     23  1.049523   \n4       79           5      T-shirt  Adidas    Men's Fashion     79  4.302773   \n\n    Color Size  \n0   Black   XL  \n1   Black    L  \n2  Yellow   XL  \n3   White    S  \n4   Black    M  ",
      "text/html": "<div>\n<style scoped>\n    .dataframe tbody tr th:only-of-type {\n        vertical-align: middle;\n    }\n\n    .dataframe tbody tr th {\n        vertical-align: top;\n    }\n\n    .dataframe thead th {\n        text-align: right;\n    }\n</style>\n<table border=\"1\" class=\"dataframe\">\n  <thead>\n    <tr style=\"text-align: right;\">\n      <th></th>\n      <th>User ID</th>\n      <th>Product ID</th>\n      <th>Product Name</th>\n      <th>Brand</th>\n      <th>Category</th>\n      <th>Price</th>\n      <th>Rating</th>\n      <th>Color</th>\n      <th>Size</th>\n    </tr>\n  </thead>\n  <tbody>\n    <tr>\n      <th>0</th>\n      <td>19</td>\n      <td>1</td>\n      <td>Dress</td>\n      <td>Adidas</td>\n      <td>Men's Fashion</td>\n      <td>40</td>\n      <td>1.043159</td>\n      <td>Black</td>\n      <td>XL</td>\n    </tr>\n    <tr>\n      <th>1</th>\n      <td>97</td>\n      <td>2</td>\n      <td>Shoes</td>\n      <td>H&amp;M</td>\n      <td>Women's Fashion</td>\n      <td>82</td>\n      <td>4.026416</td>\n      <td>Black</td>\n      <td>L</td>\n    </tr>\n    <tr>\n      <th>2</th>\n      <td>25</td>\n      <td>3</td>\n      <td>Dress</td>\n      <td>Adidas</td>\n      <td>Women's Fashion</td>\n      <td>44</td>\n      <td>3.337938</td>\n      <td>Yellow</td>\n      <td>XL</td>\n    </tr>\n    <tr>\n      <th>3</th>\n      <td>57</td>\n      <td>4</td>\n      <td>Shoes</td>\n      <td>Zara</td>\n      <td>Men's Fashion</td>\n      <td>23</td>\n      <td>1.049523</td>\n      <td>White</td>\n      <td>S</td>\n    </tr>\n    <tr>\n      <th>4</th>\n      <td>79</td>\n      <td>5</td>\n      <td>T-shirt</td>\n      <td>Adidas</td>\n      <td>Men's Fashion</td>\n      <td>79</td>\n      <td>4.302773</td>\n      <td>Black</td>\n      <td>M</td>\n    </tr>\n  </tbody>\n</table>\n</div>"
     },
     "execution_count": 3,
     "metadata": {},
     "output_type": "execute_result"
    }
   ],
   "source": [
    "df = pd.read_csv(\"fashion_products.csv\")\n",
    "df.head()"
   ],
   "metadata": {
    "collapsed": false
   }
  },
  {
   "cell_type": "code",
   "execution_count": 5,
   "outputs": [
    {
     "data": {
      "text/plain": "User ID         0\nProduct ID      0\nProduct Name    0\nBrand           0\nCategory        0\nPrice           0\nRating          0\nColor           0\nSize            0\ndtype: int64"
     },
     "execution_count": 5,
     "metadata": {},
     "output_type": "execute_result"
    }
   ],
   "source": [
    "df.isnull().sum()"
   ],
   "metadata": {
    "collapsed": false
   }
  },
  {
   "cell_type": "code",
   "execution_count": 6,
   "outputs": [
    {
     "name": "stderr",
     "output_type": "stream",
     "text": [
      "C:\\Users\\admin\\AppData\\Local\\Temp\\ipykernel_10788\\1473660569.py:3: SettingWithCopyWarning: \n",
      "A value is trying to be set on a copy of a slice from a DataFrame.\n",
      "Try using .loc[row_indexer,col_indexer] = value instead\n",
      "\n",
      "See the caveats in the documentation: https://pandas.pydata.org/pandas-docs/stable/user_guide/indexing.html#returning-a-view-versus-a-copy\n",
      "  content_df['Content'] = content_df.apply(lambda row: ' '.join(row.dropna().astype(str)), axis=1)\n"
     ]
    }
   ],
   "source": [
    "content_df = df[['Product ID', 'Product Name', 'Brand',\n",
    "                   'Category', 'Color', 'Size']]\n",
    "content_df['Content'] = content_df.apply(lambda row: ' '.join(row.dropna().astype(str)), axis=1)"
   ],
   "metadata": {
    "collapsed": false
   }
  },
  {
   "cell_type": "code",
   "execution_count": 1,
   "outputs": [
    {
     "ename": "NameError",
     "evalue": "name 'content_df' is not defined",
     "output_type": "error",
     "traceback": [
      "\u001B[1;31m---------------------------------------------------------------------------\u001B[0m",
      "\u001B[1;31mNameError\u001B[0m                                 Traceback (most recent call last)",
      "Cell \u001B[1;32mIn[1], line 1\u001B[0m\n\u001B[1;32m----> 1\u001B[0m \u001B[43mcontent_df\u001B[49m\n",
      "\u001B[1;31mNameError\u001B[0m: name 'content_df' is not defined"
     ]
    }
   ],
   "source": [
    "content_df"
   ],
   "metadata": {
    "collapsed": false
   }
  },
  {
   "cell_type": "code",
   "execution_count": 10,
   "outputs": [],
   "source": [
    "# Use TF-IDF vectorizer to convert content into a matrix of TF-IDF features\n",
    "tfidf_vectorizer = TfidfVectorizer()\n",
    "content_matrix = tfidf_vectorizer.fit_transform(content_df['Content'])"
   ],
   "metadata": {
    "collapsed": false
   }
  },
  {
   "cell_type": "code",
   "execution_count": 12,
   "outputs": [
    {
     "data": {
      "text/plain": "<1000x1011 sparse matrix of type '<class 'numpy.float64'>'\n\twith 6051 stored elements in Compressed Sparse Row format>"
     },
     "execution_count": 12,
     "metadata": {},
     "output_type": "execute_result"
    }
   ],
   "source": [
    "content_matrix"
   ],
   "metadata": {
    "collapsed": false
   }
  },
  {
   "cell_type": "code",
   "execution_count": 13,
   "outputs": [],
   "source": [
    "content_similarity = linear_kernel(content_matrix, content_matrix)"
   ],
   "metadata": {
    "collapsed": false
   }
  },
  {
   "cell_type": "code",
   "execution_count": 14,
   "outputs": [
    {
     "ename": "NameError",
     "evalue": "name 'Reader' is not defined",
     "output_type": "error",
     "traceback": [
      "\u001B[1;31m---------------------------------------------------------------------------\u001B[0m",
      "\u001B[1;31mNameError\u001B[0m                                 Traceback (most recent call last)",
      "Cell \u001B[1;32mIn[14], line 1\u001B[0m\n\u001B[1;32m----> 1\u001B[0m reader \u001B[38;5;241m=\u001B[39m \u001B[43mReader\u001B[49m(rating_scale\u001B[38;5;241m=\u001B[39m(\u001B[38;5;241m1\u001B[39m, \u001B[38;5;241m5\u001B[39m))\n\u001B[0;32m      2\u001B[0m data \u001B[38;5;241m=\u001B[39m Dataset\u001B[38;5;241m.\u001B[39mload_from_df(df[[\u001B[38;5;124m'\u001B[39m\u001B[38;5;124mUser ID\u001B[39m\u001B[38;5;124m'\u001B[39m,\u001B[38;5;124m'\u001B[39m\u001B[38;5;124mProduct ID\u001B[39m\u001B[38;5;124m'\u001B[39m,\u001B[38;5;124m'\u001B[39m\u001B[38;5;124mRating\u001B[39m\u001B[38;5;124m'\u001B[39m]], reader)\n",
      "\u001B[1;31mNameError\u001B[0m: name 'Reader' is not defined"
     ]
    }
   ],
   "source": [
    "reader = Reader(rating_scale=(1, 5))\n",
    "data = Dataset.load_from_df(df[['User ID','Product ID','Rating']], reader)"
   ],
   "metadata": {
    "collapsed": false
   }
  },
  {
   "cell_type": "code",
   "execution_count": null,
   "outputs": [],
   "source": [
    "def get_content_based_recommendations(product_id, top_n):\n",
    "    index = content_df[content_df['Product ID'] == product_id].index[0]\n",
    "    similarity_scores = content_similarity[index]\n",
    "    similar_indices = similarity_scores.argsort()[::-1][1:top_n + 1]\n",
    "    recommendations = content_df.loc[similar_indices, 'Product ID'].values\n",
    "    return recommendations"
   ],
   "metadata": {
    "collapsed": false
   }
  },
  {
   "cell_type": "code",
   "execution_count": null,
   "outputs": [],
   "source": [
    "algo = SVD()\n",
    "trainset = data.build_full_trainset()\n",
    "algo.fit(trainset)"
   ],
   "metadata": {
    "collapsed": false
   }
  },
  {
   "cell_type": "code",
   "execution_count": null,
   "outputs": [],
   "source": [
    "def get_collaborative_filtering_recommendations(user_id, top_n):\n",
    "    testset = trainset.build_anti_testset()\n",
    "    testset = filter(lambda x: x[0] == user_id, testset)\n",
    "    predictions = algo.test(testset)\n",
    "    predictions.sort(key=lambda x: x.est, reverse=True)\n",
    "    recommendations = [prediction.iid for prediction in predictions[:top_n]]\n",
    "    return recommendations"
   ],
   "metadata": {
    "collapsed": false
   }
  },
  {
   "cell_type": "code",
   "execution_count": null,
   "outputs": [],
   "source": [
    "def get_hybrid_recommendations(user_id, product_id, top_n):\n",
    "    content_based_recommendations = get_content_based_recommendations(product_id, top_n)\n",
    "    collaborative_filtering_recommendations = get_collaborative_filtering_recommendations(user_id, top_n)\n",
    "    hybrid_recommendations = list(set(content_based_recommendations + collaborative_filtering_recommendations))\n",
    "    return hybrid_recommendations[:top_n]"
   ],
   "metadata": {
    "collapsed": false
   }
  },
  {
   "cell_type": "code",
   "execution_count": null,
   "outputs": [],
   "source": [
    "user_id = 6\n",
    "product_id = 11\n",
    "top_n = 10\n",
    "recommendations = get_hybrid_recommendations(user_id, product_id, top_n)\n",
    "\n",
    "print(f\"Hybrid Recommendations for User {user_id} based on Product {product_id}:\")\n",
    "for i, recommendation in enumerate(recommendations):\n",
    "    print(f\"{i + 1}. Product ID: {recommendation}\")\n",
    "    print(f\"{i + 1}. Product ID: {recommendation}\")"
   ],
   "metadata": {
    "collapsed": false
   }
  }
 ],
 "metadata": {
  "kernelspec": {
   "display_name": "Python 3",
   "language": "python",
   "name": "python3"
  },
  "language_info": {
   "codemirror_mode": {
    "name": "ipython",
    "version": 2
   },
   "file_extension": ".py",
   "mimetype": "text/x-python",
   "name": "python",
   "nbconvert_exporter": "python",
   "pygments_lexer": "ipython2",
   "version": "2.7.6"
  }
 },
 "nbformat": 4,
 "nbformat_minor": 0
}
